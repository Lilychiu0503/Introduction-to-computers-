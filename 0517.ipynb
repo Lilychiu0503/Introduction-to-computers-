{
  "nbformat": 4,
  "nbformat_minor": 0,
  "metadata": {
    "colab": {
      "provenance": [],
      "authorship_tag": "ABX9TyNCT1zMojHs2DAPke9KiOa8",
      "include_colab_link": true
    },
    "kernelspec": {
      "name": "python3",
      "display_name": "Python 3"
    },
    "language_info": {
      "name": "python"
    }
  },
  "cells": [
    {
      "cell_type": "markdown",
      "metadata": {
        "id": "view-in-github",
        "colab_type": "text"
      },
      "source": [
        "<a href=\"https://colab.research.google.com/github/Lilychiu0503/Introduction-to-computers-/blob/main/0517.ipynb\" target=\"_parent\"><img src=\"https://colab.research.google.com/assets/colab-badge.svg\" alt=\"Open In Colab\"/></a>"
      ]
    },
    {
      "cell_type": "code",
      "source": [
        "p = (input(\"請輸入密碼\"))\n",
        "if p == \"1234\": \n",
        "  print(\"歡迎光臨!\")"
      ],
      "metadata": {
        "colab": {
          "base_uri": "https://localhost:8080/"
        },
        "id": "tuJlMVJzVwEg",
        "outputId": "4102feb1-af25-462d-dd02-8edc3c1e5896"
      },
      "execution_count": 20,
      "outputs": [
        {
          "output_type": "stream",
          "name": "stdout",
          "text": [
            "請輸入密碼1234\n",
            "歡迎光臨!\n"
          ]
        }
      ]
    },
    {
      "cell_type": "code",
      "source": [
        "r= (input(\"今天會下雨嗎?(請輸入Y/y/N/n)\"))\n",
        "if r==\"Y\" or r==\"y\":\n",
        "  print(\"出門記得帶傘\")\n",
        "else: \n",
        "  r==\"N\" or r==\"n\"\n",
        "  print(\"不用帶傘\")\n"
      ],
      "metadata": {
        "colab": {
          "base_uri": "https://localhost:8080/"
        },
        "id": "uhd13-s7XdU5",
        "outputId": "1d01e860-fc30-4ab0-84b6-a2c28302b3cc"
      },
      "execution_count": 26,
      "outputs": [
        {
          "output_type": "stream",
          "name": "stdout",
          "text": [
            "今天會下雨嗎?(請輸入Y/y/N/n)y\n",
            "出門記得帶傘\n"
          ]
        }
      ]
    },
    {
      "cell_type": "code",
      "source": [
        "num = int(input(\"請輸入一個正整數\"))\n",
        "if num % 2 == 0:\n",
        "  print(\"為偶數\")\n",
        "else:\n",
        "  print(\"為奇數\")\n"
      ],
      "metadata": {
        "colab": {
          "base_uri": "https://localhost:8080/"
        },
        "id": "asSdfkOyaslv",
        "outputId": "62cdd7bd-666f-45bf-f849-d9e76278bbef"
      },
      "execution_count": 22,
      "outputs": [
        {
          "output_type": "stream",
          "name": "stdout",
          "text": [
            "請輸入一個正整數60\n",
            "為偶數\n"
          ]
        }
      ]
    },
    {
      "cell_type": "code",
      "execution_count": null,
      "metadata": {
        "colab": {
          "base_uri": "https://localhost:8080/"
        },
        "id": "vbyHrydxKMMQ",
        "outputId": "418df119-4acf-4e45-8bec-c994f89743f6"
      },
      "outputs": [
        {
          "output_type": "stream",
          "name": "stdout",
          "text": [
            "0515\n"
          ]
        }
      ],
      "source": [
        "print(\"0515\")"
      ]
    },
    {
      "cell_type": "code",
      "source": [
        "score=int(input(\"score:\"))\n",
        "if score >=90:\n",
        "  print('Grade is; A')\n",
        "elif score >=80:\n",
        "  print('Grade is; B')\n",
        "elif score >=70:\n",
        "  print('Grade is; C')\n",
        "elif score >=60:\n",
        "  print('Grade is; D')\n",
        "else:\n",
        "  print('Grade is; F')\n"
      ],
      "metadata": {
        "colab": {
          "base_uri": "https://localhost:8080/"
        },
        "id": "LCYP8_GdKhEa",
        "outputId": "0cecf4ae-5276-40d9-88df-4732ca49ee9f"
      },
      "execution_count": null,
      "outputs": [
        {
          "output_type": "stream",
          "name": "stdout",
          "text": [
            "score:50\n",
            "Grade is; F\n"
          ]
        }
      ]
    },
    {
      "cell_type": "code",
      "source": [
        "temperature=int(input(\"temperature:\"))\n",
        "if temperature >=37.5:\n",
        "  print('temperature is; 體溫過高 ')\n",
        "elif temperature == 37.437:\n",
        "  print('Grade is; B')\n",
        "elif score >=70:\n",
        "  print('Grade is; C')\n",
        "elif score >=60:\n",
        "  print('Grade is; D')\n",
        "else:\n",
        "  print('Grade is; F')\n"
      ],
      "metadata": {
        "id": "lhLS47npLqcp",
        "colab": {
          "base_uri": "https://localhost:8080/"
        },
        "outputId": "d74253f2-8172-42e4-c775-a6ccdf0d6af1"
      },
      "execution_count": 5,
      "outputs": [
        {
          "output_type": "stream",
          "name": "stdout",
          "text": [
            "temperature:38\n",
            "temperature is; 體溫過高 \n"
          ]
        }
      ]
    },
    {
      "cell_type": "code",
      "source": [
        "a=int(input(\"請輸入成績:\"))\n",
        "if a >=90:\n",
        "  print(\"A\")\n",
        "elif a >=80 and a <=89:\n",
        "  print(\"B\")\n",
        "elif a >=70 and a <=79:\n",
        "  print(\"C\")\n",
        "elif a >=60 and a <=59:\n",
        "  print(\"D\")\n",
        "else:\n",
        "  print(\"F\")\n"
      ],
      "metadata": {
        "colab": {
          "base_uri": "https://localhost:8080/"
        },
        "id": "_FOTvCfDQ06X",
        "outputId": "700e8b5f-da5e-43da-d8cc-bb648937d297"
      },
      "execution_count": 6,
      "outputs": [
        {
          "output_type": "stream",
          "name": "stdout",
          "text": [
            "請輸入成績:90\n",
            "A\n"
          ]
        }
      ]
    },
    {
      "cell_type": "code",
      "source": [
        "month = int(input(\"請輸入月份\"))\n",
        "if 1 <= month <= 12:\n",
        "    if month >= 1 and month <= 3:\n",
        "        season = \"是春天\"\n",
        "    elif month >= 4 and month <= 6:\n",
        "        season = \"是夏天\"\n",
        "    elif month >= 7 and month <= 9:\n",
        "        season = \"是秋天\"\n",
        "    else:\n",
        "        season = \"是冬天\"\n",
        "    print(month, season)\n",
        "else:\n",
        "    print(\"月份不再範圍內\")"
      ],
      "metadata": {
        "colab": {
          "base_uri": "https://localhost:8080/"
        },
        "id": "Kmvfox8RSO_s",
        "outputId": "28a30d7e-d56e-48a5-b30a-b8a3b14ec200"
      },
      "execution_count": 8,
      "outputs": [
        {
          "output_type": "stream",
          "name": "stdout",
          "text": [
            "請輸入月份5\n",
            "5 是夏天\n"
          ]
        }
      ]
    },
    {
      "cell_type": "code",
      "source": [
        "i = int(input(\"請輸入今年收入淨額\"))\n",
        "if i >= 2000000:\n",
        "    付稅金額 = \"0.3\"\n",
        "elif i >= 1000000:\n",
        "    付稅金額 = \"0.21\"\n",
        "elif i >= 600000:\n",
        "    付稅金額 = \"0.13\"\n",
        "elif i >= 300000:\n",
        "    付稅金額 = \"0.06\"\n",
        " \n",
        "print(付稅金額)"
      ],
      "metadata": {
        "colab": {
          "base_uri": "https://localhost:8080/"
        },
        "id": "gsx0MQ3eSwo9",
        "outputId": "dc823396-2b1f-4817-ce5a-c99f932a75c6"
      },
      "execution_count": 12,
      "outputs": [
        {
          "output_type": "stream",
          "name": "stdout",
          "text": [
            "請輸入今年收入淨額1000000\n",
            "0.21\n"
          ]
        }
      ]
    },
    {
      "cell_type": "code",
      "source": [],
      "metadata": {
        "id": "QWgoFnR0VLM6"
      },
      "execution_count": null,
      "outputs": []
    }
  ]
}